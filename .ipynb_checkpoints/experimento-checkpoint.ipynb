{
 "cells": [
  {
   "cell_type": "markdown",
   "metadata": {},
   "source": [
    "<img src=\"./img/flow.png\"   height=\"42\"/>"
   ]
  },
  {
   "cell_type": "markdown",
   "metadata": {},
   "source": [
    "## Introdução\n",
    "\n",
    "Informações em redes sociais e epidemias possuem algo em comum: Ambas podem ser virais. Com o aparecimento recente da pandemia pelo SARS-CoV-2, diferentes comunidades foram expostas ao patógeno em tempos diferentes, gerando assimetrias no conhecimento e percepção pública acerca deste coronavirus. Pei e colaboradores (2015) destacam que, embora o perfil de difusão individual tenha sido amplamente investigado, os padrões gerais de difusão de informação são mais elusivos, demandando maior investigação. \n",
    "\n",
    "Neste trabalho, acompanhando o conteúdo de redes sociais, utilizaremos do conceito de linguagem psicológica como desenvolvido por Eichstead (2015, 2018) para acompanhar a evolução do tipo de informação disseminada sobre esta nova pandemia por coronavirus através da emoção elicitada pelo conteúdo. O objetivo deste trabalho é portanto, correlacionar conteúdo emocional de dados de redes sociais com momento da disseminação do vírus regional e temporalmente, assim como avaliar se a disseminação deste conteúdo segue a disseminação geoespacial da COVID-19 no país."
   ]
  },
  {
   "cell_type": "markdown",
   "metadata": {},
   "source": [
    "## Dependências\n",
    "\n",
    "Antes de iniciar, iremos importar as dependências deste projeto. Este notebook utiliza a versão 3.7 do python."
   ]
  },
  {
   "cell_type": "code",
   "execution_count": 2,
   "metadata": {},
   "outputs": [
    {
     "name": "stdout",
     "output_type": "stream",
     "text": [
      "3.6.9 (default, Nov  7 2019, 10:44:02) \n",
      "[GCC 8.3.0]\n"
     ]
    }
   ],
   "source": [
    "import sys\n",
    "print(sys.version)"
   ]
  },
  {
   "cell_type": "code",
   "execution_count": 1,
   "metadata": {},
   "outputs": [
    {
     "name": "stdout",
     "output_type": "stream",
     "text": [
      "Collecting nltk\n",
      "Collecting tweepy\n",
      "  Using cached https://files.pythonhosted.org/packages/36/1b/2bd38043d22ade352fc3d3902cf30ce0e2f4bf285be3b304a2782a767aec/tweepy-3.8.0-py2.py3-none-any.whl\n",
      "Collecting matplotlib\n",
      "  Using cached https://files.pythonhosted.org/packages/93/4b/52da6b1523d5139d04e02d9e26ceda6146b48f2a4e5d2abfdf1c7bac8c40/matplotlib-3.2.1-cp36-cp36m-manylinux1_x86_64.whl\n",
      "Collecting joblib (from nltk)\n",
      "  Using cached https://files.pythonhosted.org/packages/28/5c/cf6a2b65a321c4a209efcdf64c2689efae2cb62661f8f6f4bb28547cf1bf/joblib-0.14.1-py2.py3-none-any.whl\n",
      "Collecting tqdm (from nltk)\n",
      "  Using cached https://files.pythonhosted.org/packages/4a/1c/6359be64e8301b84160f6f6f7936bbfaaa5e9a4eab6cbc681db07600b949/tqdm-4.45.0-py2.py3-none-any.whl\n",
      "Collecting click (from nltk)\n",
      "  Using cached https://files.pythonhosted.org/packages/dd/c0/4d8f43a9b16e289f36478422031b8a63b54b6ac3b1ba605d602f10dd54d6/click-7.1.1-py2.py3-none-any.whl\n",
      "Collecting regex (from nltk)\n",
      "  Using cached https://files.pythonhosted.org/packages/1d/c1/c90beb2dbbfbf19f3634e16a441d5f11fa787bdf0748a35b8b88452c0e78/regex-2020.4.4-cp36-cp36m-manylinux1_x86_64.whl\n",
      "Collecting PySocks>=1.5.7 (from tweepy)\n",
      "  Using cached https://files.pythonhosted.org/packages/8d/59/b4572118e098ac8e46e399a1dd0f2d85403ce8bbaad9ec79373ed6badaf9/PySocks-1.7.1-py3-none-any.whl\n",
      "Collecting requests>=2.11.1 (from tweepy)\n",
      "  Using cached https://files.pythonhosted.org/packages/1a/70/1935c770cb3be6e3a8b78ced23d7e0f3b187f5cbfab4749523ed65d7c9b1/requests-2.23.0-py2.py3-none-any.whl\n",
      "Collecting requests-oauthlib>=0.7.0 (from tweepy)\n",
      "  Using cached https://files.pythonhosted.org/packages/a3/12/b92740d845ab62ea4edf04d2f4164d82532b5a0b03836d4d4e71c6f3d379/requests_oauthlib-1.3.0-py2.py3-none-any.whl\n",
      "Collecting six>=1.10.0 (from tweepy)\n",
      "  Using cached https://files.pythonhosted.org/packages/65/eb/1f97cb97bfc2390a276969c6fae16075da282f5058082d4cb10c6c5c1dba/six-1.14.0-py2.py3-none-any.whl\n",
      "Collecting kiwisolver>=1.0.1 (from matplotlib)\n",
      "  Using cached https://files.pythonhosted.org/packages/ae/23/147de658aabbf968324551ea22c0c13a00284c4ef49a77002e91f79657b7/kiwisolver-1.2.0-cp36-cp36m-manylinux1_x86_64.whl\n",
      "Collecting python-dateutil>=2.1 (from matplotlib)\n",
      "  Using cached https://files.pythonhosted.org/packages/d4/70/d60450c3dd48ef87586924207ae8907090de0b306af2bce5d134d78615cb/python_dateutil-2.8.1-py2.py3-none-any.whl\n",
      "Collecting cycler>=0.10 (from matplotlib)\n",
      "  Using cached https://files.pythonhosted.org/packages/f7/d2/e07d3ebb2bd7af696440ce7e754c59dd546ffe1bbe732c8ab68b9c834e61/cycler-0.10.0-py2.py3-none-any.whl\n",
      "Collecting pyparsing!=2.0.4,!=2.1.2,!=2.1.6,>=2.0.1 (from matplotlib)\n",
      "  Using cached https://files.pythonhosted.org/packages/8a/bb/488841f56197b13700afd5658fc279a2025a39e22449b7cf29864669b15d/pyparsing-2.4.7-py2.py3-none-any.whl\n",
      "Collecting numpy>=1.11 (from matplotlib)\n",
      "  Using cached https://files.pythonhosted.org/packages/07/08/a549ba8b061005bb629b76adc000f3caaaf881028b963c2e18f811c6edc1/numpy-1.18.2-cp36-cp36m-manylinux1_x86_64.whl\n",
      "Collecting chardet<4,>=3.0.2 (from requests>=2.11.1->tweepy)\n",
      "  Using cached https://files.pythonhosted.org/packages/bc/a9/01ffebfb562e4274b6487b4bb1ddec7ca55ec7510b22e4c51f14098443b8/chardet-3.0.4-py2.py3-none-any.whl\n",
      "Collecting idna<3,>=2.5 (from requests>=2.11.1->tweepy)\n",
      "  Using cached https://files.pythonhosted.org/packages/89/e3/afebe61c546d18fb1709a61bee788254b40e736cff7271c7de5de2dc4128/idna-2.9-py2.py3-none-any.whl\n",
      "Collecting certifi>=2017.4.17 (from requests>=2.11.1->tweepy)\n",
      "  Using cached https://files.pythonhosted.org/packages/57/2b/26e37a4b034800c960a00c4e1b3d9ca5d7014e983e6e729e33ea2f36426c/certifi-2020.4.5.1-py2.py3-none-any.whl\n",
      "Collecting urllib3!=1.25.0,!=1.25.1,<1.26,>=1.21.1 (from requests>=2.11.1->tweepy)\n",
      "  Using cached https://files.pythonhosted.org/packages/e8/74/6e4f91745020f967d09332bb2b8b9b10090957334692eb88ea4afe91b77f/urllib3-1.25.8-py2.py3-none-any.whl\n",
      "Collecting oauthlib>=3.0.0 (from requests-oauthlib>=0.7.0->tweepy)\n",
      "  Using cached https://files.pythonhosted.org/packages/05/57/ce2e7a8fa7c0afb54a0581b14a65b56e62b5759dbc98e80627142b8a3704/oauthlib-3.1.0-py2.py3-none-any.whl\n",
      "Installing collected packages: joblib, tqdm, click, regex, nltk, PySocks, chardet, idna, certifi, urllib3, requests, oauthlib, requests-oauthlib, six, tweepy, kiwisolver, python-dateutil, cycler, pyparsing, numpy, matplotlib\n",
      "Successfully installed PySocks-1.7.1 certifi-2020.4.5.1 chardet-3.0.4 click-7.1.1 cycler-0.10.0 idna-2.9 joblib-0.14.1 kiwisolver-1.2.0 matplotlib-3.2.1 nltk-3.5 numpy-1.18.2 oauthlib-3.1.0 pyparsing-2.4.7 python-dateutil-2.8.1 regex-2020.4.4 requests-2.23.0 requests-oauthlib-1.3.0 six-1.14.0 tqdm-4.45.0 tweepy-3.8.0 urllib3-1.25.8\n",
      "Obtaining GetOldTweets3 from git+https://github.com/Mottl/GetOldTweets3#egg=GetOldTweets3\n",
      "  Updating ./src/getoldtweets3 clone\n",
      "Collecting lxml>=3.5.0 (from GetOldTweets3)\n",
      "  Using cached https://files.pythonhosted.org/packages/dd/ba/a0e6866057fc0bbd17192925c1d63a3b85cf522965de9bc02364d08e5b84/lxml-4.5.0-cp36-cp36m-manylinux1_x86_64.whl\n",
      "Collecting pyquery>=1.2.10 (from GetOldTweets3)\n",
      "  Using cached https://files.pythonhosted.org/packages/78/43/95d42e386c61cb639d1a0b94f0c0b9f0b7d6b981ad3c043a836c8b5bc68b/pyquery-1.4.1-py2.py3-none-any.whl\n",
      "Collecting cssselect>0.7.9 (from pyquery>=1.2.10->GetOldTweets3)\n",
      "  Using cached https://files.pythonhosted.org/packages/3b/d4/3b5c17f00cce85b9a1e6f91096e1cc8e8ede2e1be8e96b87ce1ed09e92c5/cssselect-1.1.0-py2.py3-none-any.whl\n",
      "Installing collected packages: lxml, cssselect, pyquery, GetOldTweets3\n",
      "  Found existing installation: GetOldTweets3 0.0.11\n",
      "    Uninstalling GetOldTweets3-0.0.11:\n",
      "      Successfully uninstalled GetOldTweets3-0.0.11\n",
      "  Running setup.py develop for GetOldTweets3\n",
      "Successfully installed GetOldTweets3 cssselect-1.1.0 lxml-4.5.0 pyquery-1.4.1\n"
     ]
    }
   ],
   "source": [
    "!pip3 install nltk tweepy matplotlib\n",
    "!pip3 install -e git+https://github.com/Mottl/GetOldTweets3#egg=GetOldTweets3"
   ]
  },
  {
   "cell_type": "code",
   "execution_count": 6,
   "metadata": {},
   "outputs": [],
   "source": [
    "import nltk # Para análise de linguagem natural\n",
    "import tweepy # Para busca de tweets atuais\n",
    "import GetOldTweets3 as got # Para busca de tweets antigos\n",
    "import matplotlib.pyplot as plt # Para exibição de alguns resultados"
   ]
  },
  {
   "cell_type": "markdown",
   "metadata": {},
   "source": [
    "Para testar se está funcionando, vamos buscar tweets cariocas referentes à COVID-19 em 01/02/2020"
   ]
  },
  {
   "cell_type": "code",
   "execution_count": 30,
   "metadata": {},
   "outputs": [
    {
     "name": "stdout",
     "output_type": "stream",
     "text": [
      "2020-01-31 23:59:31+00:00\n",
      "\n",
      "\n",
      "torcendo pro cara que tá jogando Plague com o coronavírus na vida real esteja perdendo\n",
      "--------------------\n",
      "2020-01-31 23:45:23+00:00\n",
      "\n",
      "\n",
      " Esse sou eu pensando que o carnaval está chegando, que vamos receber turistas de todos os lados, que todos vão estar com a imunidade baixa, dançando nos blocos, se divertindo... e essa corona dando voltas por aí!… https://www.instagram.com/p/B8AMEFMpPAN/?igshid=sgdyo16xvumq\n",
      "--------------------\n",
      "2020-01-31 23:39:22+00:00\n",
      "\n",
      "\n",
      "Descendo Corona, sextou rss \n",
      "--------------------\n",
      "2020-01-31 23:37:45+00:00\n",
      "\n",
      "\n",
      "Desse corona\n",
      "--------------------\n",
      "2020-01-31 23:30:59+00:00\n",
      "\n",
      "\n",
      "A Microsoft tinha que ferrar esse velho babaca Facebook alerta que Olavo publicou fake news sobre Bill Gates e coronavírus \n",
      "--------------------\n",
      "2020-01-31 23:29:48+00:00\n",
      "\n",
      "\n",
      "Sede de corona vírus kkkkkkk\n",
      "--------------------\n",
      "2020-01-31 23:12:07+00:00\n",
      "\n",
      "\n",
      "namoral com essa porra de coronavírus aí eu duvido que eu vou pegar alguém nesse carnaval tá doido\n",
      "--------------------\n",
      "2020-01-31 22:53:39+00:00\n",
      "\n",
      "\n",
      "Coronavírus acaba de chegar no Cabuís..\n",
      "--------------------\n",
      "2020-01-31 22:42:12+00:00\n",
      "\n",
      "\n",
      "Tá descendo Corona e Bud com o irmão \n",
      "--------------------\n",
      "2020-01-31 22:41:22+00:00\n",
      "\n",
      "\n",
      "Não sei se compro Heineken ou Corona\n",
      "--------------------\n"
     ]
    }
   ],
   "source": [
    "tweetCriteria = got.manager.TweetCriteria().setQuerySearch('corona OR COVID OR coronavirus')\\\n",
    "                                           .setSince(\"2020-01-31\")\\\n",
    "                                           .setUntil(\"2020-02-01\")\\\n",
    "                                           .setNear(\"Rio de Janeiro, Brasil\")\\\n",
    "                                           .setMaxTweets(10)\n",
    "\n",
    "tweets = got.manager.TweetManager.getTweets(tweetCriteria)\n",
    "\n",
    "for tweet in tweets:\n",
    "    print(tweet.date)\n",
    "    print(tweet.geo)\n",
    "    print(tweet.hashtags)\n",
    "    print(tweet.text)\n",
    "    print(\"--\"*10)"
   ]
  },
  {
   "cell_type": "code",
   "execution_count": null,
   "metadata": {},
   "outputs": [],
   "source": []
  }
 ],
 "metadata": {
  "kernelspec": {
   "display_name": "Python 3",
   "language": "python",
   "name": "python3"
  },
  "language_info": {
   "codemirror_mode": {
    "name": "ipython",
    "version": 3
   },
   "file_extension": ".py",
   "mimetype": "text/x-python",
   "name": "python",
   "nbconvert_exporter": "python",
   "pygments_lexer": "ipython3",
   "version": "3.6.9"
  }
 },
 "nbformat": 4,
 "nbformat_minor": 4
}
